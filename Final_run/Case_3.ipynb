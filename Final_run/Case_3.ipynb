{
 "cells": [
  {
   "cell_type": "code",
   "execution_count": 12,
   "metadata": {},
   "outputs": [
    {
     "name": "stderr",
     "output_type": "stream",
     "text": [
      "[nltk_data] Downloading package averaged_perceptron_tagger to\n",
      "[nltk_data]     /home/anubhav08/nltk_data...\n",
      "[nltk_data]   Unzipping taggers/averaged_perceptron_tagger.zip.\n"
     ]
    }
   ],
   "source": [
    "import nltk\n",
    "nltk.download('averaged_perceptron_tagger')\n",
    "from nltk.corpus import state_union\n",
    "from nltk.tokenize import PunktSentenceTokenizer"
   ]
  },
  {
   "cell_type": "code",
   "execution_count": 13,
   "metadata": {},
   "outputs": [],
   "source": [
    "my_file = open(\"Feasible-text-dataset.txt\", \"r\")\n",
    "  \n",
    "# reading the file\n",
    "data = my_file.read()\n",
    "  \n",
    "# replacing end splitting the text \n",
    "# when newline ('\\n') is seen.\n",
    "text = data.split(\"\\n\")\n",
    "my_file.close()"
   ]
  },
  {
   "cell_type": "code",
   "execution_count": 14,
   "metadata": {},
   "outputs": [
    {
     "name": "stdout",
     "output_type": "stream",
     "text": [
      "After Split: ['Piastri has dominated everything he has done earlier. From F4 to f2', 'Wc in all categories', 'Would definitely learn this new car faster', 'W11 was a beast', 'Rocket on rails', 'Will never happen sadly', \"In all this chaos u forget u are still aiming to drive at the pinnacle of the sport. Maybe these guys know that they could get a seat in other formats of racing. Also he's loaded already. It's not an L , just disappointment ig\", 'They should announce it already. ', \"What I meant is. He's already competing at the highest level in racing. But fighting for more/wins. Didn't say it's disappointing. He can always do something else if there is situation where no one signs him. For people like us , feeling bad for daniel not being in formula 1 is stupid.. he is in this position due to his own choices. It's disappointing he's not at the top anymore winning like before.\", 'How long is this summer break', 'Kimi', 'https://nypost.com/2022/08/09/ferrari-recalls-17-years-worth-of-cars-over-possible-brake-failure/amp/', 'Why r fans even using Twitter.', 'Nothing good ever comes from that platform ', 'Even Chris medland posts are put here by pranav and others.', 'Id prefer such groups and Instagram anyday.', 'Had to be either a mercedes or a rb fan', 'no wonder elon is hesitating to buy ', 'Hope no rain this year.. should be a good race', 'Is he talking about himself ', 'Maybe one day when lewis retires they could be better friends ', 'Mercedes have won for so long they got very cocky very soon.', \"It's time Ferrari and rb come back up again.\", 'Does max prefer oversteer ? Heard this somewhere long ago', 'I mean a little bit..', 'Since last season his cars rears tend to slide around , visually atleast..', 'Interesting.', \"At first I thought he doesn't have the right balance but he keeps winning with this setup\", 'Maybe even gets more temp on tyres that way considering the sliding around', \"Let's gooo\", 'Atleast now they must announce about piastri', 'Raining this weekend at spa wtf ?', 'Both days ', '']\n",
      "After Token: [('Piastri has dominated everything he has done earlier. From F4 to f2', 'NNP'), ('Wc in all categories', 'NNP'), ('Would definitely learn this new car faster', 'NNP'), ('W11 was a beast', 'NNP'), ('Rocket on rails', 'NNP'), ('Will never happen sadly', 'NNP'), (\"In all this chaos u forget u are still aiming to drive at the pinnacle of the sport. Maybe these guys know that they could get a seat in other formats of racing. Also he's loaded already. It's not an L , just disappointment ig\", 'NNP'), ('They should announce it already. ', 'NNP'), (\"What I meant is. He's already competing at the highest level in racing. But fighting for more/wins. Didn't say it's disappointing. He can always do something else if there is situation where no one signs him. For people like us , feeling bad for daniel not being in formula 1 is stupid.. he is in this position due to his own choices. It's disappointing he's not at the top anymore winning like before.\", 'NNP'), ('How long is this summer break', 'NNP'), ('Kimi', 'NNP'), ('https://nypost.com/2022/08/09/ferrari-recalls-17-years-worth-of-cars-over-possible-brake-failure/amp/', 'JJ'), ('Why r fans even using Twitter.', 'NNP'), ('Nothing good ever comes from that platform ', 'NNP'), ('Even Chris medland posts are put here by pranav and others.', 'NNP'), ('Id prefer such groups and Instagram anyday.', 'NNP'), ('Had to be either a mercedes or a rb fan', 'NNP'), ('no wonder elon is hesitating to buy ', 'JJ'), ('Hope no rain this year.. should be a good race', 'NNP'), ('Is he talking about himself ', 'NNP'), ('Maybe one day when lewis retires they could be better friends ', 'NNP'), ('Mercedes have won for so long they got very cocky very soon.', 'NNP'), (\"It's time Ferrari and rb come back up again.\", 'NNP'), ('Does max prefer oversteer ? Heard this somewhere long ago', 'NNP'), ('I mean a little bit..', 'NNP'), ('Since last season his cars rears tend to slide around , visually atleast..', 'NNP'), ('Interesting.', 'NNP'), (\"At first I thought he doesn't have the right balance but he keeps winning with this setup\", 'NNP'), ('Maybe even gets more temp on tyres that way considering the sliding around', 'NNP'), (\"Let's gooo\", 'NNP'), ('Atleast now they must announce about piastri', 'NNP'), ('Raining this weekend at spa wtf ?', 'NNP'), ('Both days ', 'NNP'), ('', 'NN')]\n",
      "After Regex: chunk.RegexpParser with 1 stages:\n",
      "RegexpChunkParser with 1 rules:\n",
      "       <ChunkRule: '<NN.?>*<VBD.?>*<JJ.?>*<CC>?'>\n",
      "After Chunking (S\n",
      "  (mychunk\n",
      "    Piastri has dominated everything he has done earlier. From F4 to f2/NNP\n",
      "    Wc in all categories/NNP\n",
      "    Would definitely learn this new car faster/NNP\n",
      "    W11 was a beast/NNP\n",
      "    Rocket on rails/NNP\n",
      "    Will never happen sadly/NNP\n",
      "    In all this chaos u forget u are still aiming to drive at the pinnacle of the sport. Maybe these guys know that they could get a seat in other formats of racing. Also he's loaded already. It's not an L , just disappointment ig/NNP\n",
      "    They should announce it already. /NNP\n",
      "    What I meant is. He's already competing at the highest level in racing. But fighting for more/wins. Didn't say it's disappointing. He can always do something else if there is situation where no one signs him. For people like us , feeling bad for daniel not being in formula 1 is stupid.. he is in this position due to his own choices. It's disappointing he's not at the top anymore winning like before./NNP\n",
      "    How long is this summer break/NNP\n",
      "    Kimi/NNP\n",
      "    https://nypost.com/2022/08/09/ferrari-recalls-17-years-worth-of-cars-over-possible-brake-failure/amp//JJ)\n",
      "  (mychunk\n",
      "    Why r fans even using Twitter./NNP\n",
      "    Nothing good ever comes from that platform /NNP\n",
      "    Even Chris medland posts are put here by pranav and others./NNP\n",
      "    Id prefer such groups and Instagram anyday./NNP\n",
      "    Had to be either a mercedes or a rb fan/NNP\n",
      "    no wonder elon is hesitating to buy /JJ)\n",
      "  (mychunk\n",
      "    Hope no rain this year.. should be a good race/NNP\n",
      "    Is he talking about himself /NNP\n",
      "    Maybe one day when lewis retires they could be better friends /NNP\n",
      "    Mercedes have won for so long they got very cocky very soon./NNP\n",
      "    It's time Ferrari and rb come back up again./NNP\n",
      "    Does max prefer oversteer ? Heard this somewhere long ago/NNP\n",
      "    I mean a little bit../NNP\n",
      "    Since last season his cars rears tend to slide around , visually atleast../NNP\n",
      "    Interesting./NNP\n",
      "    At first I thought he doesn't have the right balance but he keeps winning with this setup/NNP\n",
      "    Maybe even gets more temp on tyres that way considering the sliding around/NNP\n",
      "    Let's gooo/NNP\n",
      "    Atleast now they must announce about piastri/NNP\n",
      "    Raining this weekend at spa wtf ?/NNP\n",
      "    Both days /NNP\n",
      "    /NN))\n"
     ]
    }
   ],
   "source": [
    "from nltk import pos_tag\n",
    "from nltk import RegexpParser\n",
    "print(\"After Split:\",text)\n",
    "tokens_tag = pos_tag(text)\n",
    "print(\"After Token:\",tokens_tag)\n",
    "patterns= \"\"\"mychunk:{<NN.?>*<VBD.?>*<JJ.?>*<CC>?}\"\"\"\n",
    "chunker = RegexpParser(patterns)\n",
    "print(\"After Regex:\",chunker)\n",
    "output = chunker.parse(tokens_tag)\n",
    "print(\"After Chunking\",output)"
   ]
  },
  {
   "cell_type": "code",
   "execution_count": null,
   "metadata": {},
   "outputs": [],
   "source": []
  }
 ],
 "metadata": {
  "kernelspec": {
   "display_name": "Python 3 (ipykernel)",
   "language": "python",
   "name": "python3"
  },
  "language_info": {
   "codemirror_mode": {
    "name": "ipython",
    "version": 3
   },
   "file_extension": ".py",
   "mimetype": "text/x-python",
   "name": "python",
   "nbconvert_exporter": "python",
   "pygments_lexer": "ipython3",
   "version": "3.10.6"
  },
  "vscode": {
   "interpreter": {
    "hash": "916dbcbb3f70747c44a77c7bcd40155683ae19c65e1c03b4aa3499c5328201f1"
   }
  }
 },
 "nbformat": 4,
 "nbformat_minor": 2
}
